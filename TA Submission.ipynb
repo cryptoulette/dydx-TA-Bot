{
 "cells": [
  {
   "cell_type": "markdown",
   "id": "50ad5bbf",
   "metadata": {},
   "source": [
    "## How to Build a Live Trading Bot on dYdX wiht Python (Stoch, RSI, MACD)"
   ]
  },
  {
   "cell_type": "markdown",
   "id": "0c8c7956",
   "metadata": {},
   "source": [
    "In the below code we will build a trading bot that uses 3 technical indicators (stochastic oscillators, RSI and MACD) to trade crytocurrencies. We will then deploy our trading bot on the dYdX decentralised perpetuals exchange."
   ]
  },
  {
   "cell_type": "markdown",
   "id": "fbac7bf8",
   "metadata": {},
   "source": [
    "First we import some dependencies that we will need to handle data. We also import the dYdX python module"
   ]
  },
  {
   "cell_type": "code",
   "execution_count": 1,
   "id": "fce4c651",
   "metadata": {},
   "outputs": [],
   "source": [
    "import pandas\n",
    "import ta\n",
    "import numpy as np\n",
    "import time\n",
    "import pandas as pd\n",
    "import datetime as datetime\n",
    "\n",
    "from dydx3 import Client\n",
    "from web3 import Web3"
   ]
  },
  {
   "cell_type": "markdown",
   "id": "0802ba93",
   "metadata": {},
   "source": [
    "We then initialise two dYdX client instances: one public instance to get candle data and a private instance where we can submit orders "
   ]
  },
  {
   "cell_type": "code",
   "execution_count": 31,
   "id": "b65857cc",
   "metadata": {},
   "outputs": [],
   "source": [
    "#Public instance with dYdX exchange\n",
    "client = Client(\n",
    "    host='https://api.dydx.exchange'\n",
    ")\n",
    "\n",
    "ETHEREUM_ADDRESS = '#INSERT YOU ETHEREUM ADDRESS HERE'\n",
    "private_client = Client(\n",
    "    host='https://api.dydx.exchange',\n",
    "    api_key_credentials={ 'key': '#INSERT YOUR API KEY HERE', \n",
    "                         'secret': '#INSERT YOUR API SECRET HERE', \n",
    "                         'passphrase': '#INSERT YOUR API PASSPHRASE HERE'},\n",
    "    stark_private_key='#INSERT YOUR STARK PRIVATE KEY HERE',\n",
    "    default_ethereum_address=ETHEREUM_ADDRESS,\n",
    ")\n",
    "\n",
    "account_response = private_client.private.get_account()\n",
    "position_id = account_response.data['account']['positionId']"
   ]
  },
  {
   "cell_type": "markdown",
   "id": "e1435f38",
   "metadata": {},
   "source": [
    "We then build some functions we will need for our trading bot. Firstly, we create an \"technicals\" function which takes the dYdX price dataframe and creates columns with our TA indicators. The indicators we will be using are described below:\n",
    "<br>\n",
    "\n",
    "The Stochastic Oscillator seeks to find oversold and overbought zones by incorporating highs and lows in a normalisation formula:\n",
    "\n",
    "%K = (Close - Low)/(High - Low)\n",
    "\n",
    "It is a contrarian indicator that seeks to signal reations of extreme movements. A bullish signal is triggered whenever the indicator reaches or breaks the lower barrier\n",
    "\n",
    "<br>\n",
    "\n",
    "The RSI is a well-known indicator which indicates when markets are overbought or oversold. The RSI is the smoothed average of positive differences divided by the smoothed average of negative price differences. This gives us an RS which is then transformed into a measure between 0 and 100.\n",
    "\n",
    "<br>\n",
    "\n",
    "Moving average convergence divergence (MACD) is a trend-following momentum indicator that shows the relationship between two moving averages of a security’s price."
   ]
  },
  {
   "cell_type": "code",
   "execution_count": 44,
   "id": "1856b563",
   "metadata": {},
   "outputs": [],
   "source": [
    "def technicals(df):\n",
    "    df['%K'] = ta.momentum.stoch(df.high, df.low, df.close, window=14, smooth_window=3)\n",
    "    df['%D'] = df[\"%K\"].rolling(3).mean()\n",
    "    df['rsi'] = ta.momentum.rsi(df.close, window=14)\n",
    "    df['macd'] = ta.trend.macd_diff(df.close)\n",
    "    return df"
   ]
  },
  {
   "cell_type": "markdown",
   "id": "67662a97",
   "metadata": {},
   "source": [
    "We then create a \"stoch_trigger\" function which tells us when the Stochastic Oscillator has reached our buy level ( in this case the oscillator drops below 20). Lastly, the \"decide\" function will create a column in our dataframe to identify scenarios that match our TA buy criteria. Specifically, the bot will buy when (1) the stochastic oscialltor is oversold, (2) the RSI is less than 30 and (3) the MACD is greater than 0. We place these in a class called \"Signals\""
   ]
  },
  {
   "cell_type": "code",
   "execution_count": 36,
   "id": "684186ba",
   "metadata": {},
   "outputs": [],
   "source": [
    "class Signals:\n",
    "    \n",
    "    def __init__(self, df, lags):\n",
    "        self.df = df\n",
    "        self.lags = lags\n",
    "    \n",
    "    def stoch_trigger(self):\n",
    "        dfx = pd.DataFrame()\n",
    "        for i in range(self.lags + 1):\n",
    "            mask = (self.df['%K'].shift(i) < 20) & (self.df['%D'].shift(i) < 20)\n",
    "            dfx = dfx.append(mask, ignore_index=True)\n",
    "        return dfx.sum(axis=0)\n",
    "    \n",
    "    def decide(self):\n",
    "        self.df['trigger'] = np.where(self.stoch_trigger(), 1, 0)\n",
    "        self.df['Buy'] = np.where((self.df.trigger) & \n",
    "                                  (self.df['%K'].between(20,80)) & (self.df['%D'].between(20,80))\n",
    "                                  & (self.df.rsi < 30) & (self.df.macd >0), 1, 0)        "
   ]
  },
  {
   "cell_type": "markdown",
   "id": "91444e27",
   "metadata": {},
   "source": [
    "Lastly, we create a bot function which will place buy orders when the above conditions are met. We execute market orders to ensure execution and also create a function which monitors the stop-loss and take-profit of our existing submission. We set our targets 1% above entry price and stops 1% below entry price. The bot updates every minute to check entry prices. "
   ]
  },
  {
   "cell_type": "code",
   "execution_count": 58,
   "id": "83cedb03",
   "metadata": {},
   "outputs": [],
   "source": [
    "def strategy(perp_contract, size, open_position=False):\n",
    "    api_result = client.public.get_candles(\n",
    "            market=str(perp_contract),\n",
    "            resolution=\"1MIN\",\n",
    "        )\n",
    "    df = pd.DataFrame(api_result.data['candles']).sort_values(by=\"startedAt\")\n",
    "    df.index = df['startedAt'] \n",
    "    df = df[['low', 'high', 'open', 'close']].astype(float)\n",
    "\n",
    "    \n",
    "    df = technicals(df)\n",
    "    inst = Signals(df, 25)\n",
    "    inst.decide()\n",
    "    \n",
    "    print(\"Current close for \", perp_contract, \" : \", df.close.iloc[[-1]][0])\n",
    "    \n",
    "    if df.Buy.iloc[-1]:\n",
    "        order_params = {\n",
    "            'position_id': position_id,\n",
    "            'market': perp_contract,\n",
    "            'side': ORDER_SIDE_BUY,\n",
    "            'order_type': ORDER_TYPE_MARKET,\n",
    "            'post_only': FALSE,\n",
    "            'size': size ,\n",
    "            'price': str(df.close.iloc[-1][0]) ,\n",
    "            'limit_fee': '0.0015',\n",
    "            'expiration_epoch_seconds': time.time() + 120,\n",
    "        }\n",
    "        \n",
    "        try:\n",
    "            buy_order_dict = private_client.private.create_order(**order_params)\n",
    "            buy_order_id = position_clear_sell_order_dict.data[\"order\"]['id']\n",
    "            buy_price = buy_order_dict.data['order']['price']\n",
    "            print(\"buy order executed at \" + buy_price)\n",
    "        except Exception as e:\n",
    "            print(e)\n",
    "    \n",
    "    while open_position:\n",
    "        time.sleep(0.5)\n",
    "        api_result = client.public.get_candles(\n",
    "            market=str(perp_contract),\n",
    "            resolution=\"1MIN\",\n",
    "        )\n",
    "        df = pd.DataFrame(api_result.data['candles']).sort_values(by=\"startedAt\")\n",
    "        df.index = df['startedAt'] \n",
    "        df = df[['low', 'high', 'open', 'close']]\n",
    "        print(\"current close: \", str(df.close.iloc[[-1]][0]))\n",
    "        print(\"current Take Profit: \", str(buyprice * 1.01))\n",
    "        print(\"current Take Stop-Loss: \", str(buyprice * 0.99))\n",
    "        \n",
    "        if df.close[-1] <= buyprice * 0.99 or df.close[-1] >= buyprice * 1.01:\n",
    "            order_params = {\n",
    "                'position_id': position_id,\n",
    "                'market': perp_contract,\n",
    "                'side': ORDER_SIDE_SELL,\n",
    "                'order_type': ORDER_TYPE_MARKET,\n",
    "                'post_only': FALSE,\n",
    "                'size': size ,\n",
    "                'price': str(df.close.iloc[-1][0]) ,\n",
    "                'limit_fee': '0.0015',\n",
    "                'expiration_epoch_seconds': time.time() + 120,\n",
    "            }\n",
    "            \n",
    "            try:\n",
    "                sell_order_dict = private_client.private.create_order(**order_params)\n",
    "                sell_order_id = position_clear_sell_order_dict.data[\"order\"]['id']\n",
    "                sell_price = buy_order_dict.data['order']['price']\n",
    "                print(\"sell order executed at \" + sell_price)\n",
    "            except Exception as e:\n",
    "                print(e)\n",
    "            \n",
    "            break"
   ]
  },
  {
   "cell_type": "code",
   "execution_count": null,
   "id": "2117a567",
   "metadata": {},
   "outputs": [],
   "source": [
    "while True:\n",
    "    strategy(\"AVAX-USD\", 50)\n",
    "    time.sleep(60)"
   ]
  }
 ],
 "metadata": {
  "kernelspec": {
   "display_name": "Python 3",
   "language": "python",
   "name": "python3"
  },
  "language_info": {
   "codemirror_mode": {
    "name": "ipython",
    "version": 3
   },
   "file_extension": ".py",
   "mimetype": "text/x-python",
   "name": "python",
   "nbconvert_exporter": "python",
   "pygments_lexer": "ipython3",
   "version": "3.8.8"
  }
 },
 "nbformat": 4,
 "nbformat_minor": 5
}
